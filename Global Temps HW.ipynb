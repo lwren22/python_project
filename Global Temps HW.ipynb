{
 "cells": [
  {
   "cell_type": "code",
   "execution_count": null,
   "id": "475c65fc",
   "metadata": {},
   "outputs": [],
   "source": [
    "import pandas as pd\n",
    "\n",
    "import matplotlib.pyplot as plt\n",
    "%matplotlib inline\n",
    "\n",
    "globaltemps_data=pd.read_csv('GlobalLandTemperaturesByMajorCity.csv',parse_dates=[\"dt\"], index_col=\"dt\")\n",
    "globaltemps_data.head()\n",
    "\n",
    "globaltemps_data.tail()\n",
    "globaltemps_data.describe()\n",
    "\n",
    "ax = globaltemps_data.groupby(['dt'])['AverageTemperature'].last().sort_values(ascending=False).head(10).sort_values().plot(kind='barh');\n",
    "ax.set_xlabel(\"Average Temperature\");\n",
    "plt.title(\"Datewise Highest Average Temperature\");\n",
    "\n",
    "ax = globaltemps_data.groupby(['Country'])['AverageTemperature'].last().sort_values(ascending=False).head(10).sort_values().plot(kind='barh');\n",
    "ax.set_xlabel(\"Avg Temp\");\n",
    "plt.title(\"Countries with Highest Average temperature\");\n",
    "\n"
   ]
  }
 ],
 "metadata": {
  "kernelspec": {
   "display_name": "Python 3",
   "language": "python",
   "name": "python3"
  },
  "language_info": {
   "codemirror_mode": {
    "name": "ipython",
    "version": 3
   },
   "file_extension": ".py",
   "mimetype": "text/x-python",
   "name": "python",
   "nbconvert_exporter": "python",
   "pygments_lexer": "ipython3",
   "version": "3.8.8"
  }
 },
 "nbformat": 4,
 "nbformat_minor": 5
}
